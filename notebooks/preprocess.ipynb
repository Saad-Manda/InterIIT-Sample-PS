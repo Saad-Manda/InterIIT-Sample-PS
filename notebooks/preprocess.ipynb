{
 "cells": [
  {
   "cell_type": "code",
   "execution_count": 1,
   "id": "e6f96c47",
   "metadata": {},
   "outputs": [],
   "source": [
    "import pandas as pd\n",
    "import numpy as np\n",
    "from sklearn.preprocessing import MinMaxScaler\n",
    "import joblib"
   ]
  },
  {
   "cell_type": "code",
   "execution_count": 2,
   "id": "05e8e885",
   "metadata": {},
   "outputs": [],
   "source": [
    "WINDOW_SIZE = 10\n",
    "SPLIT_RATIO = 0.8\n",
    "FILE_PATH = \"../data/AA.csv\""
   ]
  },
  {
   "cell_type": "code",
   "execution_count": 3,
   "id": "acf55423",
   "metadata": {},
   "outputs": [
    {
     "data": {
      "text/html": [
       "<div>\n",
       "<style scoped>\n",
       "    .dataframe tbody tr th:only-of-type {\n",
       "        vertical-align: middle;\n",
       "    }\n",
       "\n",
       "    .dataframe tbody tr th {\n",
       "        vertical-align: top;\n",
       "    }\n",
       "\n",
       "    .dataframe thead th {\n",
       "        text-align: right;\n",
       "    }\n",
       "</style>\n",
       "<table border=\"1\" class=\"dataframe\">\n",
       "  <thead>\n",
       "    <tr style=\"text-align: right;\">\n",
       "      <th></th>\n",
       "      <th>Date</th>\n",
       "      <th>Open</th>\n",
       "      <th>Close</th>\n",
       "    </tr>\n",
       "  </thead>\n",
       "  <tbody>\n",
       "    <tr>\n",
       "      <th>0</th>\n",
       "      <td>1962-01-02</td>\n",
       "      <td>6.532155</td>\n",
       "      <td>6.532155</td>\n",
       "    </tr>\n",
       "    <tr>\n",
       "      <th>1</th>\n",
       "      <td>1962-01-03</td>\n",
       "      <td>6.532155</td>\n",
       "      <td>6.632280</td>\n",
       "    </tr>\n",
       "    <tr>\n",
       "      <th>2</th>\n",
       "      <td>1962-01-04</td>\n",
       "      <td>6.632280</td>\n",
       "      <td>6.632280</td>\n",
       "    </tr>\n",
       "    <tr>\n",
       "      <th>3</th>\n",
       "      <td>1962-01-05</td>\n",
       "      <td>6.632280</td>\n",
       "      <td>6.624270</td>\n",
       "    </tr>\n",
       "    <tr>\n",
       "      <th>4</th>\n",
       "      <td>1962-01-08</td>\n",
       "      <td>6.608250</td>\n",
       "      <td>6.408000</td>\n",
       "    </tr>\n",
       "  </tbody>\n",
       "</table>\n",
       "</div>"
      ],
      "text/plain": [
       "        Date      Open     Close\n",
       "0 1962-01-02  6.532155  6.532155\n",
       "1 1962-01-03  6.532155  6.632280\n",
       "2 1962-01-04  6.632280  6.632280\n",
       "3 1962-01-05  6.632280  6.624270\n",
       "4 1962-01-08  6.608250  6.408000"
      ]
     },
     "execution_count": 3,
     "metadata": {},
     "output_type": "execute_result"
    }
   ],
   "source": [
    "df = pd.read_csv(FILE_PATH, sep=\",\", parse_dates=[\"Date\"])\n",
    "cols = [\"Date\", \"Open\", \"Close\"]\n",
    "df = df[cols].copy()\n",
    "df = df.sort_values(\"Date\").reset_index(drop=True)\n",
    "df.head()"
   ]
  },
  {
   "cell_type": "code",
   "execution_count": 4,
   "id": "0685d65a",
   "metadata": {},
   "outputs": [
    {
     "data": {
      "text/html": [
       "<div>\n",
       "<style scoped>\n",
       "    .dataframe tbody tr th:only-of-type {\n",
       "        vertical-align: middle;\n",
       "    }\n",
       "\n",
       "    .dataframe tbody tr th {\n",
       "        vertical-align: top;\n",
       "    }\n",
       "\n",
       "    .dataframe thead th {\n",
       "        text-align: right;\n",
       "    }\n",
       "</style>\n",
       "<table border=\"1\" class=\"dataframe\">\n",
       "  <thead>\n",
       "    <tr style=\"text-align: right;\">\n",
       "      <th></th>\n",
       "      <th>Date</th>\n",
       "      <th>Open</th>\n",
       "      <th>Close</th>\n",
       "      <th>avg_price</th>\n",
       "    </tr>\n",
       "  </thead>\n",
       "  <tbody>\n",
       "    <tr>\n",
       "      <th>0</th>\n",
       "      <td>1962-01-02</td>\n",
       "      <td>6.532155</td>\n",
       "      <td>6.532155</td>\n",
       "      <td>6.532155</td>\n",
       "    </tr>\n",
       "    <tr>\n",
       "      <th>1</th>\n",
       "      <td>1962-01-03</td>\n",
       "      <td>6.532155</td>\n",
       "      <td>6.632280</td>\n",
       "      <td>6.582217</td>\n",
       "    </tr>\n",
       "    <tr>\n",
       "      <th>2</th>\n",
       "      <td>1962-01-04</td>\n",
       "      <td>6.632280</td>\n",
       "      <td>6.632280</td>\n",
       "      <td>6.632280</td>\n",
       "    </tr>\n",
       "    <tr>\n",
       "      <th>3</th>\n",
       "      <td>1962-01-05</td>\n",
       "      <td>6.632280</td>\n",
       "      <td>6.624270</td>\n",
       "      <td>6.628275</td>\n",
       "    </tr>\n",
       "    <tr>\n",
       "      <th>4</th>\n",
       "      <td>1962-01-08</td>\n",
       "      <td>6.608250</td>\n",
       "      <td>6.408000</td>\n",
       "      <td>6.508125</td>\n",
       "    </tr>\n",
       "  </tbody>\n",
       "</table>\n",
       "</div>"
      ],
      "text/plain": [
       "        Date      Open     Close  avg_price\n",
       "0 1962-01-02  6.532155  6.532155   6.532155\n",
       "1 1962-01-03  6.532155  6.632280   6.582217\n",
       "2 1962-01-04  6.632280  6.632280   6.632280\n",
       "3 1962-01-05  6.632280  6.624270   6.628275\n",
       "4 1962-01-08  6.608250  6.408000   6.508125"
      ]
     },
     "execution_count": 4,
     "metadata": {},
     "output_type": "execute_result"
    }
   ],
   "source": [
    "df[\"avg_price\"] = (df[\"Open\"] + df[\"Close\"]) / 2\n",
    "df.head()"
   ]
  },
  {
   "cell_type": "code",
   "execution_count": 5,
   "id": "e74851f1",
   "metadata": {},
   "outputs": [],
   "source": [
    "def make_windows(data):\n",
    "    X, y = [], []\n",
    "    for i in range(WINDOW_SIZE, len(data)):\n",
    "        X.append(data[\"avg_price\"].iloc[i - WINDOW_SIZE:i].values)\n",
    "        y.append(data[\"avg_price\"].iloc[i])\n",
    "    return np.array(X), np.array(y)"
   ]
  },
  {
   "cell_type": "code",
   "execution_count": 6,
   "id": "bfdfe78e",
   "metadata": {},
   "outputs": [],
   "source": [
    "train_size = int(len(df) * SPLIT_RATIO)\n",
    "train_df = df.iloc[:train_size].reset_index(drop=True)\n",
    "test_df = df.iloc[train_size - WINDOW_SIZE:].reset_index(drop=True)"
   ]
  },
  {
   "cell_type": "code",
   "execution_count": 7,
   "id": "5e538fc6",
   "metadata": {},
   "outputs": [],
   "source": [
    "X_train, y_train = make_windows(train_df)\n",
    "X_test, y_test = make_windows(test_df)"
   ]
  },
  {
   "cell_type": "code",
   "execution_count": 8,
   "id": "eaff2ec0",
   "metadata": {},
   "outputs": [],
   "source": [
    "prevs = X_train[:, -1]\n",
    "dir_train = (y_train > prevs).astype(int)\n",
    "prevs_test = X_test[:, -1]\n",
    "dir_test = (y_test > prevs_test).astype(int)"
   ]
  },
  {
   "cell_type": "code",
   "execution_count": 9,
   "id": "3c6ec07e",
   "metadata": {},
   "outputs": [],
   "source": [
    "scaler_X = MinMaxScaler(feature_range=(0, 1))\n",
    "X_train_flat = X_train.reshape(-1, 1)\n",
    "scaler_X.fit(X_train_flat)\n",
    "X_train_scaled = scaler_X.transform(X_train_flat).reshape(X_train.shape[0], WINDOW_SIZE)\n",
    "X_test_flat = X_test.reshape(-1, 1)\n",
    "X_test_scaled = scaler_X.transform(X_test_flat).reshape(X_test.shape[0], WINDOW_SIZE)"
   ]
  },
  {
   "cell_type": "code",
   "execution_count": 10,
   "id": "9a1b6ad1",
   "metadata": {},
   "outputs": [],
   "source": [
    "scaler_y = MinMaxScaler(feature_range=(0, 1))\n",
    "y_train = y_train.reshape(-1, 1)\n",
    "scaler_y.fit(y_train)\n",
    "y_train_scaled = scaler_y.transform(y_train).flatten()"
   ]
  },
  {
   "cell_type": "code",
   "execution_count": 11,
   "id": "df6bd230",
   "metadata": {},
   "outputs": [],
   "source": [
    "np.savez(\n",
    "    \"../data/processed_data.npz\",\n",
    "    X_train=X_train_scaled,\n",
    "    y_train=y_train_scaled,\n",
    "    X_test=X_test_scaled,\n",
    "    y_test=y_test,\n",
    "    dir_train=dir_train,\n",
    "    dir_test=dir_test,\n",
    "    window_size=WINDOW_SIZE,\n",
    ")"
   ]
  },
  {
   "cell_type": "code",
   "execution_count": 12,
   "id": "d04ae925",
   "metadata": {},
   "outputs": [
    {
     "data": {
      "text/plain": [
       "['../models/scaler_y.pkl']"
      ]
     },
     "execution_count": 12,
     "metadata": {},
     "output_type": "execute_result"
    }
   ],
   "source": [
    "joblib.dump(scaler_X, \"../models/scaler_X.pkl\")\n",
    "joblib.dump(scaler_y, \"../models/scaler_y.pkl\")"
   ]
  }
 ],
 "metadata": {
  "kernelspec": {
   "display_name": "DL",
   "language": "python",
   "name": "python3"
  },
  "language_info": {
   "codemirror_mode": {
    "name": "ipython",
    "version": 3
   },
   "file_extension": ".py",
   "mimetype": "text/x-python",
   "name": "python",
   "nbconvert_exporter": "python",
   "pygments_lexer": "ipython3",
   "version": "3.9.23"
  }
 },
 "nbformat": 4,
 "nbformat_minor": 5
}
