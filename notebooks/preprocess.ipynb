{
 "cells": [
  {
   "cell_type": "code",
   "execution_count": 1,
   "id": "e6f96c47",
   "metadata": {},
   "outputs": [],
   "source": [
    "import pandas as pd\n",
    "import numpy as np\n",
    "from sklearn.preprocessing import MinMaxScaler\n",
    "import joblib"
   ]
  },
  {
   "cell_type": "code",
   "execution_count": 2,
   "id": "05e8e885",
   "metadata": {},
   "outputs": [],
   "source": [
    "WINDOW_SIZE = 30\n",
    "SPLIT_RATIO = 0.8\n",
    "FILE_PATH = \"../data/btc_historical.csv\""
   ]
  },
  {
   "cell_type": "code",
   "execution_count": 3,
   "id": "acf55423",
   "metadata": {},
   "outputs": [
    {
     "data": {
      "text/html": [
       "<div>\n",
       "<style scoped>\n",
       "    .dataframe tbody tr th:only-of-type {\n",
       "        vertical-align: middle;\n",
       "    }\n",
       "\n",
       "    .dataframe tbody tr th {\n",
       "        vertical-align: top;\n",
       "    }\n",
       "\n",
       "    .dataframe thead th {\n",
       "        text-align: right;\n",
       "    }\n",
       "</style>\n",
       "<table border=\"1\" class=\"dataframe\">\n",
       "  <thead>\n",
       "    <tr style=\"text-align: right;\">\n",
       "      <th></th>\n",
       "      <th>Date</th>\n",
       "      <th>Open</th>\n",
       "      <th>Close</th>\n",
       "    </tr>\n",
       "  </thead>\n",
       "  <tbody>\n",
       "    <tr>\n",
       "      <th>0</th>\n",
       "      <td>2024-09-19 23:59:59.999000+00:00</td>\n",
       "      <td>61651.155338</td>\n",
       "      <td>62940.456766</td>\n",
       "    </tr>\n",
       "    <tr>\n",
       "      <th>1</th>\n",
       "      <td>2024-09-20 23:59:59.999000+00:00</td>\n",
       "      <td>62941.427595</td>\n",
       "      <td>63192.975083</td>\n",
       "    </tr>\n",
       "    <tr>\n",
       "      <th>2</th>\n",
       "      <td>2024-09-21 23:59:59.999000+00:00</td>\n",
       "      <td>63184.341268</td>\n",
       "      <td>63394.838743</td>\n",
       "    </tr>\n",
       "    <tr>\n",
       "      <th>3</th>\n",
       "      <td>2024-09-22 23:59:59.999000+00:00</td>\n",
       "      <td>63396.803553</td>\n",
       "      <td>63648.709890</td>\n",
       "    </tr>\n",
       "    <tr>\n",
       "      <th>4</th>\n",
       "      <td>2024-09-23 23:59:59.999000+00:00</td>\n",
       "      <td>63643.102080</td>\n",
       "      <td>63329.802387</td>\n",
       "    </tr>\n",
       "  </tbody>\n",
       "</table>\n",
       "</div>"
      ],
      "text/plain": [
       "                              Date          Open         Close\n",
       "0 2024-09-19 23:59:59.999000+00:00  61651.155338  62940.456766\n",
       "1 2024-09-20 23:59:59.999000+00:00  62941.427595  63192.975083\n",
       "2 2024-09-21 23:59:59.999000+00:00  63184.341268  63394.838743\n",
       "3 2024-09-22 23:59:59.999000+00:00  63396.803553  63648.709890\n",
       "4 2024-09-23 23:59:59.999000+00:00  63643.102080  63329.802387"
      ]
     },
     "execution_count": 3,
     "metadata": {},
     "output_type": "execute_result"
    }
   ],
   "source": [
    "df = pd.read_csv(FILE_PATH, sep=\";\", parse_dates=[\"Date\"])\n",
    "cols = [\"Date\", \"Open\", \"Close\"]\n",
    "df = df[cols].copy()\n",
    "df = df.sort_values(\"Date\").reset_index(drop=True)\n",
    "df.head()"
   ]
  },
  {
   "cell_type": "code",
   "execution_count": 4,
   "id": "0685d65a",
   "metadata": {},
   "outputs": [
    {
     "data": {
      "text/html": [
       "<div>\n",
       "<style scoped>\n",
       "    .dataframe tbody tr th:only-of-type {\n",
       "        vertical-align: middle;\n",
       "    }\n",
       "\n",
       "    .dataframe tbody tr th {\n",
       "        vertical-align: top;\n",
       "    }\n",
       "\n",
       "    .dataframe thead th {\n",
       "        text-align: right;\n",
       "    }\n",
       "</style>\n",
       "<table border=\"1\" class=\"dataframe\">\n",
       "  <thead>\n",
       "    <tr style=\"text-align: right;\">\n",
       "      <th></th>\n",
       "      <th>Date</th>\n",
       "      <th>Open</th>\n",
       "      <th>Close</th>\n",
       "      <th>avg_price</th>\n",
       "      <th>price_change</th>\n",
       "      <th>price_change_pct</th>\n",
       "    </tr>\n",
       "  </thead>\n",
       "  <tbody>\n",
       "    <tr>\n",
       "      <th>0</th>\n",
       "      <td>2024-09-19 23:59:59.999000+00:00</td>\n",
       "      <td>61651.155338</td>\n",
       "      <td>62940.456766</td>\n",
       "      <td>62295.806052</td>\n",
       "      <td>1289.301428</td>\n",
       "      <td>0.020913</td>\n",
       "    </tr>\n",
       "    <tr>\n",
       "      <th>1</th>\n",
       "      <td>2024-09-20 23:59:59.999000+00:00</td>\n",
       "      <td>62941.427595</td>\n",
       "      <td>63192.975083</td>\n",
       "      <td>63067.201339</td>\n",
       "      <td>251.547488</td>\n",
       "      <td>0.003997</td>\n",
       "    </tr>\n",
       "    <tr>\n",
       "      <th>2</th>\n",
       "      <td>2024-09-21 23:59:59.999000+00:00</td>\n",
       "      <td>63184.341268</td>\n",
       "      <td>63394.838743</td>\n",
       "      <td>63289.590005</td>\n",
       "      <td>210.497475</td>\n",
       "      <td>0.003331</td>\n",
       "    </tr>\n",
       "    <tr>\n",
       "      <th>3</th>\n",
       "      <td>2024-09-22 23:59:59.999000+00:00</td>\n",
       "      <td>63396.803553</td>\n",
       "      <td>63648.709890</td>\n",
       "      <td>63522.756721</td>\n",
       "      <td>251.906338</td>\n",
       "      <td>0.003973</td>\n",
       "    </tr>\n",
       "    <tr>\n",
       "      <th>4</th>\n",
       "      <td>2024-09-23 23:59:59.999000+00:00</td>\n",
       "      <td>63643.102080</td>\n",
       "      <td>63329.802387</td>\n",
       "      <td>63486.452233</td>\n",
       "      <td>-313.299694</td>\n",
       "      <td>-0.004923</td>\n",
       "    </tr>\n",
       "  </tbody>\n",
       "</table>\n",
       "</div>"
      ],
      "text/plain": [
       "                              Date          Open         Close     avg_price  \\\n",
       "0 2024-09-19 23:59:59.999000+00:00  61651.155338  62940.456766  62295.806052   \n",
       "1 2024-09-20 23:59:59.999000+00:00  62941.427595  63192.975083  63067.201339   \n",
       "2 2024-09-21 23:59:59.999000+00:00  63184.341268  63394.838743  63289.590005   \n",
       "3 2024-09-22 23:59:59.999000+00:00  63396.803553  63648.709890  63522.756721   \n",
       "4 2024-09-23 23:59:59.999000+00:00  63643.102080  63329.802387  63486.452233   \n",
       "\n",
       "   price_change  price_change_pct  \n",
       "0   1289.301428          0.020913  \n",
       "1    251.547488          0.003997  \n",
       "2    210.497475          0.003331  \n",
       "3    251.906338          0.003973  \n",
       "4   -313.299694         -0.004923  "
      ]
     },
     "execution_count": 4,
     "metadata": {},
     "output_type": "execute_result"
    }
   ],
   "source": [
    "df[\"avg_price\"] = (df[\"Open\"] + df[\"Close\"]) / 2\n",
    "df[\"price_change\"] = df[\"Close\"] - df[\"Open\"]\n",
    "df[\"price_change_pct\"] = (df[\"Close\"] - df[\"Open\"]) / df[\"Open\"]\n",
    "df.head()"
   ]
  },
  {
   "cell_type": "code",
   "execution_count": 5,
   "id": "e74851f1",
   "metadata": {},
   "outputs": [],
   "source": [
    "def make_windows(data):\n",
    "    X, y = [], []\n",
    "    features = [\"avg_price\", \"price_change\", \"price_change_pct\"]\n",
    "    for i in range(WINDOW_SIZE, len(data)):\n",
    "        X.append(data[features].iloc[i - WINDOW_SIZE:i].values)\n",
    "        y.append(data[\"avg_price\"].iloc[i])\n",
    "    return np.array(X), np.array(y)"
   ]
  },
  {
   "cell_type": "code",
   "execution_count": 6,
   "id": "bfdfe78e",
   "metadata": {},
   "outputs": [],
   "source": [
    "train_size = int(len(df) * SPLIT_RATIO)\n",
    "train_df = df.iloc[:train_size].reset_index(drop=True)\n",
    "test_df = df.iloc[train_size - WINDOW_SIZE:].reset_index(drop=True)"
   ]
  },
  {
   "cell_type": "code",
   "execution_count": 7,
   "id": "5e538fc6",
   "metadata": {},
   "outputs": [],
   "source": [
    "X_train, y_train = make_windows(train_df)\n",
    "X_test, y_test = make_windows(test_df)"
   ]
  },
  {
   "cell_type": "code",
   "execution_count": 8,
   "id": "71a0b394",
   "metadata": {},
   "outputs": [
    {
     "data": {
      "text/plain": [
       "((288, 30, 3), (288,), (80, 30, 3), (80,))"
      ]
     },
     "execution_count": 8,
     "metadata": {},
     "output_type": "execute_result"
    }
   ],
   "source": [
    "X_train.shape, y_train.shape, X_test.shape, y_test.shape"
   ]
  },
  {
   "cell_type": "code",
   "execution_count": 9,
   "id": "eaff2ec0",
   "metadata": {},
   "outputs": [],
   "source": [
    "prevs = X_train[:, -1, 0]\n",
    "dir_train = (y_train > prevs).astype(int)\n",
    "prevs_test = X_test[:, -1, 0]\n",
    "dir_test = (y_test > prevs_test).astype(int)"
   ]
  },
  {
   "cell_type": "code",
   "execution_count": 10,
   "id": "3c6ec07e",
   "metadata": {},
   "outputs": [],
   "source": [
    "scaler_X = MinMaxScaler(feature_range=(0, 1))\n",
    "\n",
    "n_features = X_train.shape[2]\n",
    "X_train_flat = X_train.reshape(-1, n_features)\n",
    "\n",
    "scaler_X.fit(X_train_flat)\n",
    "X_train_scaled = scaler_X.transform(X_train_flat).reshape(X_train.shape[0], WINDOW_SIZE, n_features)\n",
    "\n",
    "X_test_flat = X_test.reshape(-1, n_features)\n",
    "X_test_scaled = scaler_X.transform(X_test_flat).reshape(X_test.shape[0], WINDOW_SIZE, n_features)"
   ]
  },
  {
   "cell_type": "code",
   "execution_count": 11,
   "id": "9a1b6ad1",
   "metadata": {},
   "outputs": [],
   "source": [
    "scaler_y = MinMaxScaler(feature_range=(0, 1))\n",
    "y_train = y_train.reshape(-1, 1)\n",
    "scaler_y.fit(y_train)\n",
    "y_train_scaled = scaler_y.transform(y_train).flatten()"
   ]
  },
  {
   "cell_type": "code",
   "execution_count": null,
   "id": "df6bd230",
   "metadata": {},
   "outputs": [],
   "source": [
    "np.savez(\n",
    "    \"../data/processed_data.npz\",\n",
    "    X_train=X_train_scaled,\n",
    "    y_train=y_train_scaled,\n",
    "    X_test=X_test_scaled,\n",
    "    y_test=y_test,\n",
    "    dir_train=dir_train,\n",
    "    dir_test=dir_test,\n",
    "    window_size=WINDOW_SIZE,\n",
    "    n_features=n_features\n",
    ")"
   ]
  },
  {
   "cell_type": "code",
   "execution_count": null,
   "id": "d04ae925",
   "metadata": {},
   "outputs": [
    {
     "data": {
      "text/plain": [
       "['../models/scaler_y_1.pkl']"
      ]
     },
     "execution_count": 13,
     "metadata": {},
     "output_type": "execute_result"
    }
   ],
   "source": [
    "joblib.dump(scaler_X, \"../models/scaler_X.pkl\")\n",
    "joblib.dump(scaler_y, \"../models/scaler_y.pkl\")"
   ]
  }
 ],
 "metadata": {
  "kernelspec": {
   "display_name": "DL",
   "language": "python",
   "name": "python3"
  },
  "language_info": {
   "codemirror_mode": {
    "name": "ipython",
    "version": 3
   },
   "file_extension": ".py",
   "mimetype": "text/x-python",
   "name": "python",
   "nbconvert_exporter": "python",
   "pygments_lexer": "ipython3",
   "version": "3.9.23"
  }
 },
 "nbformat": 4,
 "nbformat_minor": 5
}
