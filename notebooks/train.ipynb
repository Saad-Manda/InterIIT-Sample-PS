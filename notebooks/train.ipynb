{
 "cells": [
  {
   "cell_type": "code",
   "execution_count": 1,
   "id": "194b79f7",
   "metadata": {},
   "outputs": [],
   "source": [
    "import numpy as np\n",
    "import matplotlib.pyplot as plt\n",
    "from tensorflow.keras.models import Sequential\n",
    "from tensorflow.keras.layers import LSTM, Dense, Dropout\n",
    "from tensorflow.keras.optimizers import Adam\n",
    "from tensorflow.keras.callbacks import EarlyStopping, ReduceLROnPlateau, ModelCheckpoint\n",
    "import joblib"
   ]
  },
  {
   "cell_type": "code",
   "execution_count": 2,
   "id": "181f42e8",
   "metadata": {},
   "outputs": [],
   "source": [
    "EPOCHS = 200\n",
    "BATCH_SIZE = 32"
   ]
  },
  {
   "cell_type": "code",
   "execution_count": 3,
   "id": "7f982347",
   "metadata": {},
   "outputs": [],
   "source": [
    "data = np.load(\"../data/processed_data.npz\")\n",
    "X_train = data[\"X_train\"]\n",
    "y_train = data[\"y_train\"]\n",
    "X_test = data[\"X_test\"]\n",
    "y_test = data[\"y_test\"]\n",
    "dir_test = data[\"dir_test\"]\n",
    "window_size = int(data[\"window_size\"])"
   ]
  },
  {
   "cell_type": "code",
   "execution_count": 4,
   "id": "b0054318",
   "metadata": {},
   "outputs": [
    {
     "data": {
      "text/plain": [
       "((308, 10), (308,), (80, 10), (80,))"
      ]
     },
     "execution_count": 4,
     "metadata": {},
     "output_type": "execute_result"
    }
   ],
   "source": [
    "X_train.shape, y_train.shape, X_test.shape, y_test.shape"
   ]
  },
  {
   "cell_type": "code",
   "execution_count": 5,
   "id": "bb9ec76a",
   "metadata": {},
   "outputs": [
    {
     "data": {
      "text/plain": [
       "(0.0, 1.0, 0.5694548173904032, 0.2436574353149964)"
      ]
     },
     "execution_count": 5,
     "metadata": {},
     "output_type": "execute_result"
    }
   ],
   "source": [
    "y_train.min(), y_train.max(), y_train.mean(), y_train.std()"
   ]
  },
  {
   "cell_type": "code",
   "execution_count": 6,
   "id": "5f3d3809",
   "metadata": {},
   "outputs": [],
   "source": [
    "X_train = X_train.reshape((X_train.shape[0], window_size, 1))\n",
    "X_test = X_test.reshape((X_test.shape[0], window_size, 1))"
   ]
  },
  {
   "cell_type": "code",
   "execution_count": 7,
   "id": "d141d4a5",
   "metadata": {},
   "outputs": [
    {
     "name": "stdout",
     "output_type": "stream",
     "text": [
      "Model: \"sequential\"\n",
      "_________________________________________________________________\n",
      " Layer (type)                Output Shape              Param #   \n",
      "=================================================================\n",
      " lstm (LSTM)                 (None, 10, 128)           66560     \n",
      "                                                                 \n",
      " dropout (Dropout)           (None, 10, 128)           0         \n",
      "                                                                 \n",
      " lstm_1 (LSTM)               (None, 10, 64)            49408     \n",
      "                                                                 \n",
      " dropout_1 (Dropout)         (None, 10, 64)            0         \n",
      "                                                                 \n",
      " lstm_2 (LSTM)               (None, 32)                12416     \n",
      "                                                                 \n",
      " dropout_2 (Dropout)         (None, 32)                0         \n",
      "                                                                 \n",
      " dense (Dense)               (None, 16)                528       \n",
      "                                                                 \n",
      " dense_1 (Dense)             (None, 1)                 17        \n",
      "                                                                 \n",
      "=================================================================\n",
      "Total params: 128,929\n",
      "Trainable params: 128,929\n",
      "Non-trainable params: 0\n",
      "_________________________________________________________________\n"
     ]
    }
   ],
   "source": [
    "model = Sequential()\n",
    "\n",
    "model.add(LSTM(128, input_shape=(window_size, 1), return_sequences=True))\n",
    "model.add(Dropout(0.3))\n",
    "\n",
    "model.add(LSTM(64, return_sequences=True))\n",
    "model.add(Dropout(0.2))\n",
    "\n",
    "model.add(LSTM(32, return_sequences=False))\n",
    "model.add(Dropout(0.1))\n",
    "\n",
    "model.add(Dense(16, activation='relu'))\n",
    "model.add(Dense(1))\n",
    "\n",
    "optimizer = Adam(learning_rate=5e-4, clipnorm=1.0)\n",
    "model.compile(optimizer=optimizer, loss='mse')\n",
    "\n",
    "model.summary()"
   ]
  },
  {
   "cell_type": "code",
   "execution_count": 8,
   "id": "0c9ada9a",
   "metadata": {},
   "outputs": [],
   "source": [
    "es = EarlyStopping(monitor='val_loss', patience=30, restore_best_weights=True, verbose=1)\n",
    "rlrp = ReduceLROnPlateau(monitor='val_loss', factor=0.5, patience=10, min_lr=1e-6, verbose=1)\n",
    "checkpoint = ModelCheckpoint('../models/best_model.keras', monitor='val_loss', save_best_only=True, verbose=1)"
   ]
  },
  {
   "cell_type": "code",
   "execution_count": 9,
   "id": "396b7762",
   "metadata": {},
   "outputs": [
    {
     "name": "stdout",
     "output_type": "stream",
     "text": [
      "Epoch 1/200\n",
      "6/9 [===================>..........] - ETA: 0s - loss: 0.2114 \n",
      "Epoch 1: val_loss improved from inf to 0.14895, saving model to ../models\\best_model.keras\n",
      "9/9 [==============================] - 6s 109ms/step - loss: 0.1913 - val_loss: 0.1489 - lr: 5.0000e-04\n",
      "Epoch 2/200\n",
      "6/9 [===================>..........] - ETA: 0s - loss: 0.0265\n",
      "Epoch 2: val_loss improved from 0.14895 to 0.02054, saving model to ../models\\best_model.keras\n",
      "9/9 [==============================] - 0s 19ms/step - loss: 0.0279 - val_loss: 0.0205 - lr: 5.0000e-04\n",
      "Epoch 3/200\n",
      "5/9 [===============>..............] - ETA: 0s - loss: 0.0195\n",
      "Epoch 3: val_loss did not improve from 0.02054\n",
      "9/9 [==============================] - 0s 15ms/step - loss: 0.0164 - val_loss: 0.0481 - lr: 5.0000e-04\n",
      "Epoch 4/200\n",
      "6/9 [===================>..........] - ETA: 0s - loss: 0.0171\n",
      "Epoch 4: val_loss improved from 0.02054 to 0.01507, saving model to ../models\\best_model.keras\n",
      "9/9 [==============================] - 0s 25ms/step - loss: 0.0152 - val_loss: 0.0151 - lr: 5.0000e-04\n",
      "Epoch 5/200\n",
      "8/9 [=========================>....] - ETA: 0s - loss: 0.0100\n",
      "Epoch 5: val_loss improved from 0.01507 to 0.00590, saving model to ../models\\best_model.keras\n",
      "9/9 [==============================] - 0s 27ms/step - loss: 0.0099 - val_loss: 0.0059 - lr: 5.0000e-04\n",
      "Epoch 6/200\n",
      "9/9 [==============================] - ETA: 0s - loss: 0.0101\n",
      "Epoch 6: val_loss did not improve from 0.00590\n",
      "9/9 [==============================] - 0s 19ms/step - loss: 0.0101 - val_loss: 0.0143 - lr: 5.0000e-04\n",
      "Epoch 7/200\n",
      "9/9 [==============================] - ETA: 0s - loss: 0.0090\n",
      "Epoch 7: val_loss did not improve from 0.00590\n",
      "9/9 [==============================] - 0s 16ms/step - loss: 0.0090 - val_loss: 0.0064 - lr: 5.0000e-04\n",
      "Epoch 8/200\n",
      "9/9 [==============================] - ETA: 0s - loss: 0.0077\n",
      "Epoch 8: val_loss did not improve from 0.00590\n",
      "9/9 [==============================] - 0s 20ms/step - loss: 0.0077 - val_loss: 0.0064 - lr: 5.0000e-04\n",
      "Epoch 9/200\n",
      "9/9 [==============================] - ETA: 0s - loss: 0.0085\n",
      "Epoch 9: val_loss did not improve from 0.00590\n",
      "9/9 [==============================] - 0s 22ms/step - loss: 0.0085 - val_loss: 0.0072 - lr: 5.0000e-04\n",
      "Epoch 10/200\n",
      "9/9 [==============================] - ETA: 0s - loss: 0.0083\n",
      "Epoch 10: val_loss improved from 0.00590 to 0.00505, saving model to ../models\\best_model.keras\n",
      "9/9 [==============================] - 0s 27ms/step - loss: 0.0083 - val_loss: 0.0051 - lr: 5.0000e-04\n",
      "Epoch 11/200\n",
      "8/9 [=========================>....] - ETA: 0s - loss: 0.0080\n",
      "Epoch 11: val_loss did not improve from 0.00505\n",
      "9/9 [==============================] - 0s 19ms/step - loss: 0.0080 - val_loss: 0.0056 - lr: 5.0000e-04\n",
      "Epoch 12/200\n",
      "5/9 [===============>..............] - ETA: 0s - loss: 0.0083\n",
      "Epoch 12: val_loss did not improve from 0.00505\n",
      "9/9 [==============================] - 0s 18ms/step - loss: 0.0085 - val_loss: 0.0057 - lr: 5.0000e-04\n",
      "Epoch 13/200\n",
      "9/9 [==============================] - ETA: 0s - loss: 0.0072\n",
      "Epoch 13: val_loss improved from 0.00505 to 0.00466, saving model to ../models\\best_model.keras\n",
      "9/9 [==============================] - 0s 23ms/step - loss: 0.0072 - val_loss: 0.0047 - lr: 5.0000e-04\n",
      "Epoch 14/200\n",
      "5/9 [===============>..............] - ETA: 0s - loss: 0.0070\n",
      "Epoch 14: val_loss did not improve from 0.00466\n",
      "9/9 [==============================] - 0s 16ms/step - loss: 0.0070 - val_loss: 0.0052 - lr: 5.0000e-04\n",
      "Epoch 15/200\n",
      "9/9 [==============================] - ETA: 0s - loss: 0.0068\n",
      "Epoch 15: val_loss did not improve from 0.00466\n",
      "9/9 [==============================] - 0s 17ms/step - loss: 0.0068 - val_loss: 0.0048 - lr: 5.0000e-04\n",
      "Epoch 16/200\n",
      "9/9 [==============================] - ETA: 0s - loss: 0.0073\n",
      "Epoch 16: val_loss improved from 0.00466 to 0.00421, saving model to ../models\\best_model.keras\n",
      "9/9 [==============================] - 0s 21ms/step - loss: 0.0073 - val_loss: 0.0042 - lr: 5.0000e-04\n",
      "Epoch 17/200\n",
      "5/9 [===============>..............] - ETA: 0s - loss: 0.0064\n",
      "Epoch 17: val_loss did not improve from 0.00421\n",
      "9/9 [==============================] - 0s 16ms/step - loss: 0.0068 - val_loss: 0.0073 - lr: 5.0000e-04\n",
      "Epoch 18/200\n",
      "6/9 [===================>..........] - ETA: 0s - loss: 0.0072\n",
      "Epoch 18: val_loss did not improve from 0.00421\n",
      "9/9 [==============================] - 0s 16ms/step - loss: 0.0071 - val_loss: 0.0060 - lr: 5.0000e-04\n",
      "Epoch 19/200\n",
      "9/9 [==============================] - ETA: 0s - loss: 0.0069\n",
      "Epoch 19: val_loss did not improve from 0.00421\n",
      "9/9 [==============================] - 0s 17ms/step - loss: 0.0069 - val_loss: 0.0047 - lr: 5.0000e-04\n",
      "Epoch 20/200\n",
      "6/9 [===================>..........] - ETA: 0s - loss: 0.0077\n",
      "Epoch 20: val_loss did not improve from 0.00421\n",
      "9/9 [==============================] - 0s 15ms/step - loss: 0.0076 - val_loss: 0.0052 - lr: 5.0000e-04\n",
      "Epoch 21/200\n",
      "5/9 [===============>..............] - ETA: 0s - loss: 0.0077\n",
      "Epoch 21: val_loss did not improve from 0.00421\n",
      "9/9 [==============================] - 0s 16ms/step - loss: 0.0074 - val_loss: 0.0044 - lr: 5.0000e-04\n",
      "Epoch 22/200\n",
      "7/9 [======================>.......] - ETA: 0s - loss: 0.0083\n",
      "Epoch 22: val_loss did not improve from 0.00421\n",
      "9/9 [==============================] - 0s 21ms/step - loss: 0.0079 - val_loss: 0.0053 - lr: 5.0000e-04\n",
      "Epoch 23/200\n",
      "9/9 [==============================] - ETA: 0s - loss: 0.0074\n",
      "Epoch 23: val_loss did not improve from 0.00421\n",
      "9/9 [==============================] - 0s 18ms/step - loss: 0.0074 - val_loss: 0.0042 - lr: 5.0000e-04\n",
      "Epoch 24/200\n",
      "6/9 [===================>..........] - ETA: 0s - loss: 0.0082\n",
      "Epoch 24: val_loss did not improve from 0.00421\n",
      "9/9 [==============================] - 0s 16ms/step - loss: 0.0085 - val_loss: 0.0081 - lr: 5.0000e-04\n",
      "Epoch 25/200\n",
      "9/9 [==============================] - ETA: 0s - loss: 0.0069\n",
      "Epoch 25: val_loss improved from 0.00421 to 0.00329, saving model to ../models\\best_model.keras\n",
      "9/9 [==============================] - 0s 21ms/step - loss: 0.0069 - val_loss: 0.0033 - lr: 5.0000e-04\n",
      "Epoch 26/200\n",
      "6/9 [===================>..........] - ETA: 0s - loss: 0.0077\n",
      "Epoch 26: val_loss did not improve from 0.00329\n",
      "9/9 [==============================] - 0s 16ms/step - loss: 0.0073 - val_loss: 0.0090 - lr: 5.0000e-04\n",
      "Epoch 27/200\n",
      "6/9 [===================>..........] - ETA: 0s - loss: 0.0055\n",
      "Epoch 27: val_loss improved from 0.00329 to 0.00324, saving model to ../models\\best_model.keras\n",
      "9/9 [==============================] - 0s 20ms/step - loss: 0.0063 - val_loss: 0.0032 - lr: 5.0000e-04\n",
      "Epoch 28/200\n",
      "5/9 [===============>..............] - ETA: 0s - loss: 0.0087\n",
      "Epoch 28: val_loss did not improve from 0.00324\n",
      "9/9 [==============================] - 0s 16ms/step - loss: 0.0085 - val_loss: 0.0117 - lr: 5.0000e-04\n",
      "Epoch 29/200\n",
      "9/9 [==============================] - ETA: 0s - loss: 0.0074\n",
      "Epoch 29: val_loss did not improve from 0.00324\n",
      "9/9 [==============================] - 0s 16ms/step - loss: 0.0074 - val_loss: 0.0039 - lr: 5.0000e-04\n",
      "Epoch 30/200\n",
      "5/9 [===============>..............] - ETA: 0s - loss: 0.0074\n",
      "Epoch 30: val_loss did not improve from 0.00324\n",
      "9/9 [==============================] - 0s 16ms/step - loss: 0.0070 - val_loss: 0.0103 - lr: 5.0000e-04\n",
      "Epoch 31/200\n",
      "9/9 [==============================] - ETA: 0s - loss: 0.0068\n",
      "Epoch 31: val_loss did not improve from 0.00324\n",
      "9/9 [==============================] - 0s 18ms/step - loss: 0.0068 - val_loss: 0.0047 - lr: 5.0000e-04\n",
      "Epoch 32/200\n",
      "5/9 [===============>..............] - ETA: 0s - loss: 0.0062\n",
      "Epoch 32: val_loss did not improve from 0.00324\n",
      "9/9 [==============================] - 0s 16ms/step - loss: 0.0066 - val_loss: 0.0076 - lr: 5.0000e-04\n",
      "Epoch 33/200\n",
      "6/9 [===================>..........] - ETA: 0s - loss: 0.0075\n",
      "Epoch 33: val_loss did not improve from 0.00324\n",
      "9/9 [==============================] - 0s 16ms/step - loss: 0.0077 - val_loss: 0.0077 - lr: 5.0000e-04\n",
      "Epoch 34/200\n",
      "5/9 [===============>..............] - ETA: 0s - loss: 0.0071\n",
      "Epoch 34: val_loss did not improve from 0.00324\n",
      "9/9 [==============================] - 0s 15ms/step - loss: 0.0072 - val_loss: 0.0043 - lr: 5.0000e-04\n",
      "Epoch 35/200\n",
      "9/9 [==============================] - ETA: 0s - loss: 0.0067\n",
      "Epoch 35: ReduceLROnPlateau reducing learning rate to 0.0002500000118743628.\n",
      "\n",
      "Epoch 35: val_loss did not improve from 0.00324\n",
      "9/9 [==============================] - 0s 17ms/step - loss: 0.0067 - val_loss: 0.0135 - lr: 5.0000e-04\n",
      "Epoch 36/200\n",
      "6/9 [===================>..........] - ETA: 0s - loss: 0.0075\n",
      "Epoch 36: val_loss did not improve from 0.00324\n",
      "9/9 [==============================] - 0s 15ms/step - loss: 0.0073 - val_loss: 0.0058 - lr: 2.5000e-04\n",
      "Epoch 37/200\n",
      "6/9 [===================>..........] - ETA: 0s - loss: 0.0064\n",
      "Epoch 37: val_loss did not improve from 0.00324\n",
      "9/9 [==============================] - 0s 16ms/step - loss: 0.0066 - val_loss: 0.0061 - lr: 2.5000e-04\n",
      "Epoch 38/200\n",
      "6/9 [===================>..........] - ETA: 0s - loss: 0.0070\n",
      "Epoch 38: val_loss did not improve from 0.00324\n",
      "9/9 [==============================] - 0s 16ms/step - loss: 0.0070 - val_loss: 0.0092 - lr: 2.5000e-04\n",
      "Epoch 39/200\n",
      "6/9 [===================>..........] - ETA: 0s - loss: 0.0063\n",
      "Epoch 39: val_loss did not improve from 0.00324\n",
      "9/9 [==============================] - 0s 15ms/step - loss: 0.0070 - val_loss: 0.0060 - lr: 2.5000e-04\n",
      "Epoch 40/200\n",
      "6/9 [===================>..........] - ETA: 0s - loss: 0.0069\n",
      "Epoch 40: val_loss did not improve from 0.00324\n",
      "9/9 [==============================] - 0s 15ms/step - loss: 0.0069 - val_loss: 0.0087 - lr: 2.5000e-04\n",
      "Epoch 41/200\n",
      "6/9 [===================>..........] - ETA: 0s - loss: 0.0059\n",
      "Epoch 41: val_loss did not improve from 0.00324\n",
      "9/9 [==============================] - 0s 15ms/step - loss: 0.0061 - val_loss: 0.0073 - lr: 2.5000e-04\n",
      "Epoch 42/200\n",
      "6/9 [===================>..........] - ETA: 0s - loss: 0.0072\n",
      "Epoch 42: val_loss did not improve from 0.00324\n",
      "9/9 [==============================] - 0s 15ms/step - loss: 0.0070 - val_loss: 0.0102 - lr: 2.5000e-04\n",
      "Epoch 43/200\n",
      "5/9 [===============>..............] - ETA: 0s - loss: 0.0060\n",
      "Epoch 43: val_loss did not improve from 0.00324\n",
      "9/9 [==============================] - 0s 17ms/step - loss: 0.0061 - val_loss: 0.0082 - lr: 2.5000e-04\n",
      "Epoch 44/200\n",
      "6/9 [===================>..........] - ETA: 0s - loss: 0.0071\n",
      "Epoch 44: val_loss did not improve from 0.00324\n",
      "9/9 [==============================] - 0s 14ms/step - loss: 0.0071 - val_loss: 0.0070 - lr: 2.5000e-04\n",
      "Epoch 45/200\n",
      "5/9 [===============>..............] - ETA: 0s - loss: 0.0078\n",
      "Epoch 45: ReduceLROnPlateau reducing learning rate to 0.0001250000059371814.\n",
      "\n",
      "Epoch 45: val_loss did not improve from 0.00324\n",
      "9/9 [==============================] - 0s 16ms/step - loss: 0.0065 - val_loss: 0.0073 - lr: 2.5000e-04\n",
      "Epoch 46/200\n",
      "5/9 [===============>..............] - ETA: 0s - loss: 0.0053\n",
      "Epoch 46: val_loss did not improve from 0.00324\n",
      "9/9 [==============================] - 0s 16ms/step - loss: 0.0061 - val_loss: 0.0095 - lr: 1.2500e-04\n",
      "Epoch 47/200\n",
      "5/9 [===============>..............] - ETA: 0s - loss: 0.0067\n",
      "Epoch 47: val_loss did not improve from 0.00324\n",
      "9/9 [==============================] - 0s 16ms/step - loss: 0.0062 - val_loss: 0.0074 - lr: 1.2500e-04\n",
      "Epoch 48/200\n",
      "5/9 [===============>..............] - ETA: 0s - loss: 0.0064\n",
      "Epoch 48: val_loss did not improve from 0.00324\n",
      "9/9 [==============================] - 0s 16ms/step - loss: 0.0061 - val_loss: 0.0077 - lr: 1.2500e-04\n",
      "Epoch 49/200\n",
      "5/9 [===============>..............] - ETA: 0s - loss: 0.0066\n",
      "Epoch 49: val_loss did not improve from 0.00324\n",
      "9/9 [==============================] - 0s 16ms/step - loss: 0.0065 - val_loss: 0.0075 - lr: 1.2500e-04\n",
      "Epoch 50/200\n",
      "6/9 [===================>..........] - ETA: 0s - loss: 0.0053\n",
      "Epoch 50: val_loss did not improve from 0.00324\n",
      "9/9 [==============================] - 0s 16ms/step - loss: 0.0056 - val_loss: 0.0070 - lr: 1.2500e-04\n",
      "Epoch 51/200\n",
      "5/9 [===============>..............] - ETA: 0s - loss: 0.0063\n",
      "Epoch 51: val_loss did not improve from 0.00324\n",
      "9/9 [==============================] - 0s 16ms/step - loss: 0.0065 - val_loss: 0.0061 - lr: 1.2500e-04\n",
      "Epoch 52/200\n",
      "5/9 [===============>..............] - ETA: 0s - loss: 0.0059\n",
      "Epoch 52: val_loss did not improve from 0.00324\n",
      "9/9 [==============================] - 0s 16ms/step - loss: 0.0058 - val_loss: 0.0069 - lr: 1.2500e-04\n",
      "Epoch 53/200\n",
      "5/9 [===============>..............] - ETA: 0s - loss: 0.0055\n",
      "Epoch 53: val_loss did not improve from 0.00324\n",
      "9/9 [==============================] - 0s 17ms/step - loss: 0.0057 - val_loss: 0.0091 - lr: 1.2500e-04\n",
      "Epoch 54/200\n",
      "5/9 [===============>..............] - ETA: 0s - loss: 0.0057\n",
      "Epoch 54: val_loss did not improve from 0.00324\n",
      "9/9 [==============================] - 0s 16ms/step - loss: 0.0057 - val_loss: 0.0087 - lr: 1.2500e-04\n",
      "Epoch 55/200\n",
      "9/9 [==============================] - ETA: 0s - loss: 0.0062\n",
      "Epoch 55: ReduceLROnPlateau reducing learning rate to 6.25000029685907e-05.\n",
      "\n",
      "Epoch 55: val_loss did not improve from 0.00324\n",
      "9/9 [==============================] - 0s 18ms/step - loss: 0.0062 - val_loss: 0.0087 - lr: 1.2500e-04\n",
      "Epoch 56/200\n",
      "9/9 [==============================] - ETA: 0s - loss: 0.0061\n",
      "Epoch 56: val_loss did not improve from 0.00324\n",
      "9/9 [==============================] - 0s 19ms/step - loss: 0.0061 - val_loss: 0.0066 - lr: 6.2500e-05\n",
      "Epoch 57/200\n",
      "8/9 [=========================>....] - ETA: 0s - loss: 0.0063Restoring model weights from the end of the best epoch: 27.\n",
      "\n",
      "Epoch 57: val_loss did not improve from 0.00324\n",
      "9/9 [==============================] - 0s 21ms/step - loss: 0.0063 - val_loss: 0.0061 - lr: 6.2500e-05\n",
      "Epoch 57: early stopping\n"
     ]
    }
   ],
   "source": [
    "history = model.fit(\n",
    "    X_train, y_train,\n",
    "    epochs=EPOCHS,\n",
    "    batch_size=BATCH_SIZE,\n",
    "    validation_split=0.15,\n",
    "    callbacks=[es, rlrp, checkpoint],\n",
    "    verbose=1\n",
    ")"
   ]
  },
  {
   "cell_type": "code",
   "execution_count": 10,
   "id": "9e49c18e",
   "metadata": {},
   "outputs": [
    {
     "name": "stdout",
     "output_type": "stream",
     "text": [
      "Final losses -> train: 0.006289, val: 0.006135\n"
     ]
    }
   ],
   "source": [
    "train_loss = history.history['loss'][-1]\n",
    "val_loss = history.history.get('val_loss', [None])[-1]\n",
    "print(f\"Final losses -> train: {train_loss:.6f}, val: {val_loss:.6f}\")"
   ]
  },
  {
   "cell_type": "code",
   "execution_count": 11,
   "id": "5e1a73f6",
   "metadata": {},
   "outputs": [],
   "source": [
    "scaler_X = joblib.load('../models/scaler_X.pkl')\n",
    "scaler_y = joblib.load('../models/scaler_y.pkl')"
   ]
  },
  {
   "cell_type": "code",
   "execution_count": 12,
   "id": "daf31f8f",
   "metadata": {},
   "outputs": [
    {
     "name": "stdout",
     "output_type": "stream",
     "text": [
      "3/3 [==============================] - 1s 6ms/step\n"
     ]
    }
   ],
   "source": [
    "pred_scaled = model.predict(X_test).flatten()\n",
    "predicted = scaler_y.inverse_transform(pred_scaled.reshape(-1, 1)).flatten()"
   ]
  },
  {
   "cell_type": "code",
   "execution_count": 13,
   "id": "f185f869",
   "metadata": {},
   "outputs": [],
   "source": [
    "prev_scaled = X_test.reshape(X_test.shape[0], window_size)[:, -1].reshape(-1, 1)\n",
    "prev_actuals = scaler_X.inverse_transform(prev_scaled).flatten()"
   ]
  },
  {
   "cell_type": "code",
   "execution_count": 16,
   "id": "c5ae7e76",
   "metadata": {},
   "outputs": [],
   "source": [
    "predictions_on_true_test = predicted[window_size:]\n",
    "actuals_on_true_test = y_test[window_size:]\n",
    "prev_actuals_true_test = prev_actuals[window_size:]"
   ]
  },
  {
   "cell_type": "code",
   "execution_count": 17,
   "id": "c71796f5",
   "metadata": {},
   "outputs": [],
   "source": [
    "pred_dir_binary = (predictions_on_true_test > prev_actuals_true_test).astype(int)\n",
    "actual_dir_binary = (actuals_on_true_test > prev_actuals_true_test).astype(int)"
   ]
  },
  {
   "cell_type": "code",
   "execution_count": null,
   "id": "229c0fd2",
   "metadata": {},
   "outputs": [
    {
     "name": "stdout",
     "output_type": "stream",
     "text": [
      "Direction accuracy (predicted > previous actual): 41.43%\n"
     ]
    }
   ],
   "source": [
    "direction_accuracy = (pred_dir_binary == actual_dir_binary).mean() * 100\n",
    "print(f\"Direction accuracy (predicted > previous actual): {direction_accuracy:.2f}%\")"
   ]
  },
  {
   "cell_type": "code",
   "execution_count": 19,
   "id": "35b5f212",
   "metadata": {},
   "outputs": [
    {
     "data": {
      "image/png": "[encoded data removed]",
      "text/plain": [
       "<Figure size 1000x600 with 1 Axes>"
      ]
     },
     "metadata": {},
     "output_type": "display_data"
    }
   ],
   "source": [
    "plt.figure(figsize=(10, 6))\n",
    "plt.plot(actuals_on_true_test, label=\"Actual Price\")\n",
    "plt.plot(predictions_on_true_test, label=\"Predicted Price\")\n",
    "plt.title(f\"LSTM Predicted vs Actual Price | Direction Accuracy: {direction_accuracy:.2f}%\")\n",
    "plt.xlabel(\"Samples\")\n",
    "plt.ylabel(\"Average Price\")\n",
    "plt.legend()\n",
    "plt.tight_layout()\n",
    "plt.show()"
   ]
  }
 ],
 "metadata": {
  "kernelspec": {
   "display_name": "DL",
   "language": "python",
   "name": "python3"
  },
  "language_info": {
   "codemirror_mode": {
    "name": "ipython",
    "version": 3
   },
   "file_extension": ".py",
   "mimetype": "text/x-python",
   "name": "python",
   "nbconvert_exporter": "python",
   "pygments_lexer": "ipython3",
   "version": "3.9.23"
  }
 },
 "nbformat": 4,
 "nbformat_minor": 5
}
