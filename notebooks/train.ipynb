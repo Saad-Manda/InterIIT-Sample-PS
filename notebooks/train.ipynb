{
 "cells": [
  {
   "cell_type": "code",
   "execution_count": null,
   "id": "194b79f7",
   "metadata": {},
   "outputs": [],
   "source": [
    "import numpy as np\n",
    "import matplotlib.pyplot as plt\n",
    "from sklearn.preprocessing import MinMaxScaler\n",
    "from tensorflow.keras.models import Sequential\n",
    "from tensorflow.keras.layers import LSTM, Dense, Dropout, Bidirectional, BatchNormalization\n",
    "from tensorflow.keras.optimizers import Adam\n",
    "from tensorflow.keras.callbacks import EarlyStopping, ReduceLROnPlateau, ModelCheckpoint\n",
    "import joblib"
   ]
  },
  {
   "cell_type": "code",
   "execution_count": null,
   "id": "181f42e8",
   "metadata": {},
   "outputs": [],
   "source": [
    "EPOCHS = 200\n",
    "BATCH_SIZE = 32"
   ]
  },
  {
   "cell_type": "code",
   "execution_count": null,
   "id": "7f982347",
   "metadata": {},
   "outputs": [],
   "source": [
    "data = np.load(\"../data/processed_data.npz\")\n",
    "X_train = data[\"X_train\"]\n",
    "y_train = data[\"y_train\"]\n",
    "X_test = data[\"X_test\"]\n",
    "y_test = data[\"y_test\"]\n",
    "dir_test = data[\"dir_test\"]\n",
    "window_size = int(data[\"window_size\"])"
   ]
  },
  {
   "cell_type": "code",
   "execution_count": null,
   "id": "b0054318",
   "metadata": {},
   "outputs": [
    {
     "data": {
      "text/plain": [
       "((308, 10), (308,), (80, 10), (80,))"
      ]
     },
     "metadata": {},
     "output_type": "display_data"
    }
   ],
   "source": [
    "X_train.shape, y_train.shape, X_test.shape, y_test.shape"
   ]
  },
  {
   "cell_type": "code",
   "execution_count": null,
   "id": "bb9ec76a",
   "metadata": {},
   "outputs": [
    {
     "data": {
      "text/plain": [
       "(0.0, 1.0, 0.5668662052074848, 0.24448337994989142)"
      ]
     },
     "metadata": {},
     "output_type": "display_data"
    }
   ],
   "source": [
    "y_train.min(), y_train.max(), y_train.mean(), y_train.std()"
   ]
  },
  {
   "cell_type": "code",
   "execution_count": null,
   "id": "5f3d3809",
   "metadata": {},
   "outputs": [],
   "source": [
    "X_train = X_train.reshape((X_train.shape[0], window_size, 1))\n",
    "X_test = X_test.reshape((X_test.shape[0], window_size, 1))"
   ]
  },
  {
   "cell_type": "code",
   "execution_count": null,
   "id": "d141d4a5",
   "metadata": {},
   "outputs": [
    {
     "name": "stdout",
     "output_type": "stream",
     "text": [
      "Model: \"sequential\"\n",
      "_________________________________________________________________\n",
      " Layer (type)                Output Shape              Param #   \n",
      "=================================================================\n",
      " lstm (LSTM)                 (None, 10, 128)           66560     \n",
      "                                                                 \n",
      " dropout (Dropout)           (None, 10, 128)           0         \n",
      "                                                                 \n",
      " lstm_1 (LSTM)               (None, 10, 64)            49408     \n",
      "                                                                 \n",
      " dropout_1 (Dropout)         (None, 10, 64)            0         \n",
      "                                                                 \n",
      " lstm_2 (LSTM)               (None, 32)                12416     \n",
      "                                                                 \n",
      " dropout_2 (Dropout)         (None, 32)                0         \n",
      "                                                                 \n",
      " dense (Dense)               (None, 16)                528       \n",
      "                                                                 \n",
      " dense_1 (Dense)             (None, 1)                 17        \n",
      "                                                                 \n",
      "=================================================================\n",
      "Total params: 128,929\n",
      "Trainable params: 128,929\n",
      "Non-trainable params: 0\n",
      "_________________________________________________________________\n"
     ]
    }
   ],
   "source": [
    "model = Sequential()\n",
    "\n",
    "model.add(LSTM(128, input_shape=(window_size, 1), return_sequences=True))\n",
    "model.add(Dropout(0.3))\n",
    "\n",
    "model.add(LSTM(64, return_sequences=True))\n",
    "model.add(Dropout(0.2))\n",
    "\n",
    "model.add(LSTM(32, return_sequences=False))\n",
    "model.add(Dropout(0.1))\n",
    "\n",
    "model.add(Dense(16, activation='relu'))\n",
    "model.add(Dense(1))\n",
    "\n",
    "optimizer = Adam(learning_rate=5e-4, clipnorm=1.0)\n",
    "model.compile(optimizer=optimizer, loss='mse')\n",
    "\n",
    "model.summary()"
   ]
  },
  {
   "cell_type": "code",
   "execution_count": null,
   "id": "0c9ada9a",
   "metadata": {},
   "outputs": [],
   "source": [
    "es = EarlyStopping(monitor='val_loss', patience=30, restore_best_weights=True, verbose=1)\n",
    "rlrp = ReduceLROnPlateau(monitor='val_loss', factor=0.5, patience=10, min_lr=1e-6, verbose=1)\n",
    "checkpoint = ModelCheckpoint('../models/best_model.keras', monitor='val_loss', save_best_only=True, verbose=1)"
   ]
  },
  {
   "cell_type": "code",
   "execution_count": null,
   "id": "396b7762",
   "metadata": {},
   "outputs": [
    {
     "name": "stdout",
     "output_type": "stream",
     "text": [
      "Epoch 1/200\n",
      "9/9 [==============================] - ETA: 0s - loss: 0.2334\n",
      "Epoch 1: val_loss improved from inf to 0.28584, saving model to ../models\\best_model.keras\n",
      "9/9 [==============================] - 8s 156ms/step - loss: 0.2334 - val_loss: 0.2858 - lr: 5.0000e-04\n",
      "Epoch 2/200\n",
      "8/9 [=========================>....] - ETA: 0s - loss: 0.0456\n",
      "Epoch 2: val_loss improved from 0.28584 to 0.01354, saving model to ../models\\best_model.keras\n",
      "9/9 [==============================] - 0s 29ms/step - loss: 0.0452 - val_loss: 0.0135 - lr: 5.0000e-04\n",
      "Epoch 3/200\n",
      "5/9 [===============>..............] - ETA: 0s - loss: 0.0289\n",
      "Epoch 3: val_loss did not improve from 0.01354\n",
      "9/9 [==============================] - 0s 18ms/step - loss: 0.0224 - val_loss: 0.0428 - lr: 5.0000e-04\n",
      "Epoch 4/200\n",
      "8/9 [=========================>....] - ETA: 0s - loss: 0.0196\n",
      "Epoch 4: val_loss did not improve from 0.01354\n",
      "9/9 [==============================] - 0s 20ms/step - loss: 0.0195 - val_loss: 0.0351 - lr: 5.0000e-04\n",
      "Epoch 5/200\n",
      "8/9 [=========================>....] - ETA: 0s - loss: 0.0133\n",
      "Epoch 5: val_loss improved from 0.01354 to 0.00582, saving model to ../models\\best_model.keras\n",
      "9/9 [==============================] - 0s 23ms/step - loss: 0.0132 - val_loss: 0.0058 - lr: 5.0000e-04\n",
      "Epoch 6/200\n",
      "9/9 [==============================] - ETA: 0s - loss: 0.0104\n",
      "Epoch 6: val_loss did not improve from 0.00582\n",
      "9/9 [==============================] - 0s 20ms/step - loss: 0.0104 - val_loss: 0.0209 - lr: 5.0000e-04\n",
      "Epoch 7/200\n",
      "8/9 [=========================>....] - ETA: 0s - loss: 0.0114\n",
      "Epoch 7: val_loss did not improve from 0.00582\n",
      "9/9 [==============================] - 0s 21ms/step - loss: 0.0114 - val_loss: 0.0122 - lr: 5.0000e-04\n",
      "Epoch 8/200\n",
      "9/9 [==============================] - ETA: 0s - loss: 0.0092\n",
      "Epoch 8: val_loss did not improve from 0.00582\n",
      "9/9 [==============================] - 0s 17ms/step - loss: 0.0092 - val_loss: 0.0076 - lr: 5.0000e-04\n",
      "Epoch 9/200\n",
      "5/9 [===============>..............] - ETA: 0s - loss: 0.0091\n",
      "Epoch 9: val_loss did not improve from 0.00582\n",
      "9/9 [==============================] - 0s 18ms/step - loss: 0.0093 - val_loss: 0.0076 - lr: 5.0000e-04\n",
      "Epoch 10/200\n",
      "6/9 [===================>..........] - ETA: 0s - loss: 0.0089\n",
      "Epoch 10: val_loss did not improve from 0.00582\n",
      "9/9 [==============================] - 0s 16ms/step - loss: 0.0088 - val_loss: 0.0061 - lr: 5.0000e-04\n",
      "Epoch 11/200\n",
      "9/9 [==============================] - ETA: 0s - loss: 0.0087\n",
      "Epoch 11: val_loss improved from 0.00582 to 0.00580, saving model to ../models\\best_model.keras\n",
      "9/9 [==============================] - 0s 29ms/step - loss: 0.0087 - val_loss: 0.0058 - lr: 5.0000e-04\n",
      "Epoch 12/200\n",
      "8/9 [=========================>....] - ETA: 0s - loss: 0.0095\n",
      "Epoch 12: val_loss improved from 0.00580 to 0.00380, saving model to ../models\\best_model.keras\n",
      "9/9 [==============================] - 0s 28ms/step - loss: 0.0094 - val_loss: 0.0038 - lr: 5.0000e-04\n",
      "Epoch 13/200\n",
      "5/9 [===============>..............] - ETA: 0s - loss: 0.0082\n",
      "Epoch 13: val_loss did not improve from 0.00380\n",
      "9/9 [==============================] - 0s 17ms/step - loss: 0.0089 - val_loss: 0.0058 - lr: 5.0000e-04\n",
      "Epoch 14/200\n",
      "5/9 [===============>..............] - ETA: 0s - loss: 0.0079\n",
      "Epoch 14: val_loss did not improve from 0.00380\n",
      "9/9 [==============================] - 0s 16ms/step - loss: 0.0088 - val_loss: 0.0047 - lr: 5.0000e-04\n",
      "Epoch 15/200\n",
      "8/9 [=========================>....] - ETA: 0s - loss: 0.0085\n",
      "Epoch 15: val_loss did not improve from 0.00380\n",
      "9/9 [==============================] - 0s 19ms/step - loss: 0.0087 - val_loss: 0.0068 - lr: 5.0000e-04\n",
      "Epoch 16/200\n",
      "6/9 [===================>..........] - ETA: 0s - loss: 0.0081\n",
      "Epoch 16: val_loss did not improve from 0.00380\n",
      "9/9 [==============================] - 0s 17ms/step - loss: 0.0080 - val_loss: 0.0053 - lr: 5.0000e-04\n",
      "Epoch 17/200\n",
      "7/9 [======================>.......] - ETA: 0s - loss: 0.0084\n",
      "Epoch 17: val_loss did not improve from 0.00380\n",
      "9/9 [==============================] - 0s 23ms/step - loss: 0.0081 - val_loss: 0.0069 - lr: 5.0000e-04\n",
      "Epoch 18/200\n",
      "8/9 [=========================>....] - ETA: 0s - loss: 0.0086\n",
      "Epoch 18: val_loss did not improve from 0.00380\n",
      "9/9 [==============================] - 0s 19ms/step - loss: 0.0087 - val_loss: 0.0117 - lr: 5.0000e-04\n",
      "Epoch 19/200\n",
      "5/9 [===============>..............] - ETA: 0s - loss: 0.0089\n",
      "Epoch 19: val_loss did not improve from 0.00380\n",
      "9/9 [==============================] - 0s 17ms/step - loss: 0.0084 - val_loss: 0.0049 - lr: 5.0000e-04\n",
      "Epoch 20/200\n",
      "6/9 [===================>..........] - ETA: 0s - loss: 0.0086\n",
      "Epoch 20: val_loss did not improve from 0.00380\n",
      "9/9 [==============================] - 0s 16ms/step - loss: 0.0087 - val_loss: 0.0075 - lr: 5.0000e-04\n",
      "Epoch 21/200\n",
      "5/9 [===============>..............] - ETA: 0s - loss: 0.0071\n",
      "Epoch 21: val_loss did not improve from 0.00380\n",
      "9/9 [==============================] - 0s 17ms/step - loss: 0.0080 - val_loss: 0.0084 - lr: 5.0000e-04\n",
      "Epoch 22/200\n",
      "9/9 [==============================] - ETA: 0s - loss: 0.0082\n",
      "Epoch 22: val_loss improved from 0.00380 to 0.00342, saving model to ../models\\best_model.keras\n",
      "9/9 [==============================] - 0s 25ms/step - loss: 0.0082 - val_loss: 0.0034 - lr: 5.0000e-04\n",
      "Epoch 23/200\n",
      "7/9 [======================>.......] - ETA: 0s - loss: 0.0078\n",
      "Epoch 23: val_loss did not improve from 0.00342\n",
      "9/9 [==============================] - 0s 21ms/step - loss: 0.0076 - val_loss: 0.0106 - lr: 5.0000e-04\n",
      "Epoch 24/200\n",
      "9/9 [==============================] - ETA: 0s - loss: 0.0079\n",
      "Epoch 24: val_loss did not improve from 0.00342\n",
      "9/9 [==============================] - 0s 20ms/step - loss: 0.0079 - val_loss: 0.0039 - lr: 5.0000e-04\n",
      "Epoch 25/200\n",
      "5/9 [===============>..............] - ETA: 0s - loss: 0.0076\n",
      "Epoch 25: val_loss did not improve from 0.00342\n",
      "9/9 [==============================] - 0s 17ms/step - loss: 0.0079 - val_loss: 0.0041 - lr: 5.0000e-04\n",
      "Epoch 26/200\n",
      "6/9 [===================>..........] - ETA: 0s - loss: 0.0076\n",
      "Epoch 26: val_loss did not improve from 0.00342\n",
      "9/9 [==============================] - 0s 17ms/step - loss: 0.0078 - val_loss: 0.0089 - lr: 5.0000e-04\n",
      "Epoch 27/200\n",
      "5/9 [===============>..............] - ETA: 0s - loss: 0.0077\n",
      "Epoch 27: val_loss did not improve from 0.00342\n",
      "9/9 [==============================] - 0s 16ms/step - loss: 0.0081 - val_loss: 0.0041 - lr: 5.0000e-04\n",
      "Epoch 28/200\n",
      "5/9 [===============>..............] - ETA: 0s - loss: 0.0071\n",
      "Epoch 28: val_loss did not improve from 0.00342\n",
      "9/9 [==============================] - 0s 17ms/step - loss: 0.0071 - val_loss: 0.0082 - lr: 5.0000e-04\n",
      "Epoch 29/200\n",
      "5/9 [===============>..............] - ETA: 0s - loss: 0.0075\n",
      "Epoch 29: val_loss did not improve from 0.00342\n",
      "9/9 [==============================] - 0s 17ms/step - loss: 0.0072 - val_loss: 0.0045 - lr: 5.0000e-04\n",
      "Epoch 30/200\n",
      "9/9 [==============================] - ETA: 0s - loss: 0.0071\n",
      "Epoch 30: val_loss did not improve from 0.00342\n",
      "9/9 [==============================] - 0s 21ms/step - loss: 0.0071 - val_loss: 0.0053 - lr: 5.0000e-04\n",
      "Epoch 31/200\n",
      "9/9 [==============================] - ETA: 0s - loss: 0.0075\n",
      "Epoch 31: val_loss did not improve from 0.00342\n",
      "9/9 [==============================] - 0s 19ms/step - loss: 0.0075 - val_loss: 0.0081 - lr: 5.0000e-04\n",
      "Epoch 32/200\n",
      "9/9 [==============================] - ETA: 0s - loss: 0.0069\n",
      "Epoch 32: val_loss improved from 0.00342 to 0.00332, saving model to ../models\\best_model.keras\n",
      "9/9 [==============================] - 0s 23ms/step - loss: 0.0069 - val_loss: 0.0033 - lr: 5.0000e-04\n",
      "Epoch 33/200\n",
      "9/9 [==============================] - ETA: 0s - loss: 0.0068\n",
      "Epoch 33: val_loss did not improve from 0.00332\n",
      "9/9 [==============================] - 0s 19ms/step - loss: 0.0068 - val_loss: 0.0079 - lr: 5.0000e-04\n",
      "Epoch 34/200\n",
      "9/9 [==============================] - ETA: 0s - loss: 0.0073\n",
      "Epoch 34: val_loss did not improve from 0.00332\n",
      "9/9 [==============================] - 0s 18ms/step - loss: 0.0073 - val_loss: 0.0060 - lr: 5.0000e-04\n",
      "Epoch 35/200\n",
      "8/9 [=========================>....] - ETA: 0s - loss: 0.0070\n",
      "Epoch 35: val_loss did not improve from 0.00332\n",
      "9/9 [==============================] - 0s 19ms/step - loss: 0.0071 - val_loss: 0.0079 - lr: 5.0000e-04\n",
      "Epoch 36/200\n",
      "9/9 [==============================] - ETA: 0s - loss: 0.0070\n",
      "Epoch 36: val_loss did not improve from 0.00332\n",
      "9/9 [==============================] - 0s 18ms/step - loss: 0.0070 - val_loss: 0.0041 - lr: 5.0000e-04\n",
      "Epoch 37/200\n",
      "5/9 [===============>..............] - ETA: 0s - loss: 0.0063\n",
      "Epoch 37: val_loss did not improve from 0.00332\n",
      "9/9 [==============================] - 0s 17ms/step - loss: 0.0063 - val_loss: 0.0066 - lr: 5.0000e-04\n",
      "Epoch 38/200\n",
      "5/9 [===============>..............] - ETA: 0s - loss: 0.0061\n",
      "Epoch 38: val_loss did not improve from 0.00332\n",
      "9/9 [==============================] - 0s 18ms/step - loss: 0.0068 - val_loss: 0.0055 - lr: 5.0000e-04\n",
      "Epoch 39/200\n",
      "9/9 [==============================] - ETA: 0s - loss: 0.0058\n",
      "Epoch 39: val_loss did not improve from 0.00332\n",
      "9/9 [==============================] - 0s 19ms/step - loss: 0.0058 - val_loss: 0.0067 - lr: 5.0000e-04\n",
      "Epoch 40/200\n",
      "5/9 [===============>..............] - ETA: 0s - loss: 0.0070\n",
      "Epoch 40: val_loss did not improve from 0.00332\n",
      "9/9 [==============================] - 0s 18ms/step - loss: 0.0070 - val_loss: 0.0059 - lr: 5.0000e-04\n",
      "Epoch 41/200\n",
      "5/9 [===============>..............] - ETA: 0s - loss: 0.0073\n",
      "Epoch 41: val_loss did not improve from 0.00332\n",
      "9/9 [==============================] - 0s 18ms/step - loss: 0.0070 - val_loss: 0.0094 - lr: 5.0000e-04\n",
      "Epoch 42/200\n",
      "8/9 [=========================>....] - ETA: 0s - loss: 0.0077\n",
      "Epoch 42: ReduceLROnPlateau reducing learning rate to 0.0002500000118743628.\n",
      "\n",
      "Epoch 42: val_loss improved from 0.00332 to 0.00330, saving model to ../models\\best_model.keras\n",
      "9/9 [==============================] - 0s 24ms/step - loss: 0.0076 - val_loss: 0.0033 - lr: 5.0000e-04\n",
      "Epoch 43/200\n",
      "8/9 [=========================>....] - ETA: 0s - loss: 0.0073\n",
      "Epoch 43: val_loss did not improve from 0.00330\n",
      "9/9 [==============================] - 0s 21ms/step - loss: 0.0072 - val_loss: 0.0088 - lr: 2.5000e-04\n",
      "Epoch 44/200\n",
      "9/9 [==============================] - ETA: 0s - loss: 0.0068\n",
      "Epoch 44: val_loss did not improve from 0.00330\n",
      "9/9 [==============================] - 0s 20ms/step - loss: 0.0068 - val_loss: 0.0038 - lr: 2.5000e-04\n",
      "Epoch 45/200\n",
      "9/9 [==============================] - ETA: 0s - loss: 0.0067\n",
      "Epoch 45: val_loss did not improve from 0.00330\n",
      "9/9 [==============================] - 0s 18ms/step - loss: 0.0067 - val_loss: 0.0074 - lr: 2.5000e-04\n",
      "Epoch 46/200\n",
      "5/9 [===============>..............] - ETA: 0s - loss: 0.0060\n",
      "Epoch 46: val_loss did not improve from 0.00330\n",
      "9/9 [==============================] - 0s 17ms/step - loss: 0.0067 - val_loss: 0.0067 - lr: 2.5000e-04\n",
      "Epoch 47/200\n",
      "6/9 [===================>..........] - ETA: 0s - loss: 0.0059\n",
      "Epoch 47: val_loss did not improve from 0.00330\n",
      "9/9 [==============================] - 0s 16ms/step - loss: 0.0061 - val_loss: 0.0058 - lr: 2.5000e-04\n",
      "Epoch 48/200\n",
      "6/9 [===================>..........] - ETA: 0s - loss: 0.0067\n",
      "Epoch 48: val_loss did not improve from 0.00330\n",
      "9/9 [==============================] - 0s 15ms/step - loss: 0.0069 - val_loss: 0.0089 - lr: 2.5000e-04\n",
      "Epoch 49/200\n",
      "8/9 [=========================>....] - ETA: 0s - loss: 0.0065\n",
      "Epoch 49: val_loss did not improve from 0.00330\n",
      "9/9 [==============================] - 0s 19ms/step - loss: 0.0064 - val_loss: 0.0054 - lr: 2.5000e-04\n",
      "Epoch 50/200\n",
      "5/9 [===============>..............] - ETA: 0s - loss: 0.0067\n",
      "Epoch 50: val_loss did not improve from 0.00330\n",
      "9/9 [==============================] - 0s 18ms/step - loss: 0.0068 - val_loss: 0.0066 - lr: 2.5000e-04\n",
      "Epoch 51/200\n",
      "6/9 [===================>..........] - ETA: 0s - loss: 0.0064\n",
      "Epoch 51: val_loss did not improve from 0.00330\n",
      "9/9 [==============================] - 0s 16ms/step - loss: 0.0067 - val_loss: 0.0056 - lr: 2.5000e-04\n",
      "Epoch 52/200\n",
      "9/9 [==============================] - ETA: 0s - loss: 0.0066\n",
      "Epoch 52: ReduceLROnPlateau reducing learning rate to 0.0001250000059371814.\n",
      "\n",
      "Epoch 52: val_loss did not improve from 0.00330\n",
      "9/9 [==============================] - 0s 18ms/step - loss: 0.0066 - val_loss: 0.0074 - lr: 2.5000e-04\n",
      "Epoch 53/200\n",
      "6/9 [===================>..........] - ETA: 0s - loss: 0.0062\n",
      "Epoch 53: val_loss did not improve from 0.00330\n",
      "9/9 [==============================] - 0s 16ms/step - loss: 0.0060 - val_loss: 0.0072 - lr: 1.2500e-04\n",
      "Epoch 54/200\n",
      "5/9 [===============>..............] - ETA: 0s - loss: 0.0053\n",
      "Epoch 54: val_loss did not improve from 0.00330\n",
      "9/9 [==============================] - 0s 17ms/step - loss: 0.0059 - val_loss: 0.0056 - lr: 1.2500e-04\n",
      "Epoch 55/200\n",
      "9/9 [==============================] - ETA: 0s - loss: 0.0066\n",
      "Epoch 55: val_loss did not improve from 0.00330\n",
      "9/9 [==============================] - 0s 18ms/step - loss: 0.0066 - val_loss: 0.0065 - lr: 1.2500e-04\n",
      "Epoch 56/200\n",
      "8/9 [=========================>....] - ETA: 0s - loss: 0.0060\n",
      "Epoch 56: val_loss did not improve from 0.00330\n",
      "9/9 [==============================] - 0s 20ms/step - loss: 0.0061 - val_loss: 0.0066 - lr: 1.2500e-04\n",
      "Epoch 57/200\n",
      "9/9 [==============================] - ETA: 0s - loss: 0.0066\n",
      "Epoch 57: val_loss did not improve from 0.00330\n",
      "9/9 [==============================] - 0s 20ms/step - loss: 0.0066 - val_loss: 0.0063 - lr: 1.2500e-04\n",
      "Epoch 58/200\n",
      "6/9 [===================>..........] - ETA: 0s - loss: 0.0067\n",
      "Epoch 58: val_loss did not improve from 0.00330\n",
      "9/9 [==============================] - 0s 16ms/step - loss: 0.0066 - val_loss: 0.0056 - lr: 1.2500e-04\n",
      "Epoch 59/200\n",
      "9/9 [==============================] - ETA: 0s - loss: 0.0062\n",
      "Epoch 59: val_loss did not improve from 0.00330\n",
      "9/9 [==============================] - 0s 18ms/step - loss: 0.0062 - val_loss: 0.0059 - lr: 1.2500e-04\n",
      "Epoch 60/200\n",
      "5/9 [===============>..............] - ETA: 0s - loss: 0.0069\n",
      "Epoch 60: val_loss did not improve from 0.00330\n",
      "9/9 [==============================] - 0s 18ms/step - loss: 0.0063 - val_loss: 0.0059 - lr: 1.2500e-04\n",
      "Epoch 61/200\n",
      "7/9 [======================>.......] - ETA: 0s - loss: 0.0065\n",
      "Epoch 61: val_loss did not improve from 0.00330\n",
      "9/9 [==============================] - 0s 23ms/step - loss: 0.0065 - val_loss: 0.0075 - lr: 1.2500e-04\n",
      "Epoch 62/200\n",
      "8/9 [=========================>....] - ETA: 0s - loss: 0.0061\n",
      "Epoch 62: ReduceLROnPlateau reducing learning rate to 6.25000029685907e-05.\n",
      "\n",
      "Epoch 62: val_loss did not improve from 0.00330\n",
      "9/9 [==============================] - 0s 21ms/step - loss: 0.0061 - val_loss: 0.0077 - lr: 1.2500e-04\n",
      "Epoch 63/200\n",
      "7/9 [======================>.......] - ETA: 0s - loss: 0.0064\n",
      "Epoch 63: val_loss did not improve from 0.00330\n",
      "9/9 [==============================] - 0s 21ms/step - loss: 0.0062 - val_loss: 0.0056 - lr: 6.2500e-05\n",
      "Epoch 64/200\n",
      "9/9 [==============================] - ETA: 0s - loss: 0.0069\n",
      "Epoch 64: val_loss did not improve from 0.00330\n",
      "9/9 [==============================] - 0s 19ms/step - loss: 0.0069 - val_loss: 0.0049 - lr: 6.2500e-05\n",
      "Epoch 65/200\n",
      "8/9 [=========================>....] - ETA: 0s - loss: 0.0056\n",
      "Epoch 65: val_loss did not improve from 0.00330\n",
      "9/9 [==============================] - 0s 20ms/step - loss: 0.0059 - val_loss: 0.0057 - lr: 6.2500e-05\n",
      "Epoch 66/200\n",
      "5/9 [===============>..............] - ETA: 0s - loss: 0.0055\n",
      "Epoch 66: val_loss did not improve from 0.00330\n",
      "9/9 [==============================] - 0s 17ms/step - loss: 0.0064 - val_loss: 0.0055 - lr: 6.2500e-05\n",
      "Epoch 67/200\n",
      "9/9 [==============================] - ETA: 0s - loss: 0.0064\n",
      "Epoch 67: val_loss did not improve from 0.00330\n",
      "9/9 [==============================] - 0s 20ms/step - loss: 0.0064 - val_loss: 0.0070 - lr: 6.2500e-05\n",
      "Epoch 68/200\n",
      "8/9 [=========================>....] - ETA: 0s - loss: 0.0063\n",
      "Epoch 68: val_loss did not improve from 0.00330\n",
      "9/9 [==============================] - 0s 19ms/step - loss: 0.0063 - val_loss: 0.0062 - lr: 6.2500e-05\n",
      "Epoch 69/200\n",
      "8/9 [=========================>....] - ETA: 0s - loss: 0.0065\n",
      "Epoch 69: val_loss did not improve from 0.00330\n",
      "9/9 [==============================] - 0s 23ms/step - loss: 0.0065 - val_loss: 0.0048 - lr: 6.2500e-05\n",
      "Epoch 70/200\n",
      "8/9 [=========================>....] - ETA: 0s - loss: 0.0067\n",
      "Epoch 70: val_loss did not improve from 0.00330\n",
      "9/9 [==============================] - 0s 21ms/step - loss: 0.0066 - val_loss: 0.0056 - lr: 6.2500e-05\n",
      "Epoch 71/200\n",
      "7/9 [======================>.......] - ETA: 0s - loss: 0.0057\n",
      "Epoch 71: val_loss did not improve from 0.00330\n",
      "9/9 [==============================] - 0s 21ms/step - loss: 0.0061 - val_loss: 0.0070 - lr: 6.2500e-05\n",
      "Epoch 72/200\n",
      "8/9 [=========================>....] - ETA: 0s - loss: 0.0062Restoring model weights from the end of the best epoch: 42.\n",
      "\n",
      "Epoch 72: ReduceLROnPlateau reducing learning rate to 3.125000148429535e-05.\n",
      "\n",
      "Epoch 72: val_loss did not improve from 0.00330\n",
      "9/9 [==============================] - 0s 26ms/step - loss: 0.0063 - val_loss: 0.0070 - lr: 6.2500e-05\n",
      "Epoch 72: early stopping\n"
     ]
    }
   ],
   "source": [
    "history = model.fit(\n",
    "    X_train, y_train,\n",
    "    epochs=EPOCHS,\n",
    "    batch_size=BATCH_SIZE,\n",
    "    validation_split=0.15,\n",
    "    callbacks=[es, rlrp, checkpoint],\n",
    "    verbose=1\n",
    ")"
   ]
  },
  {
   "cell_type": "code",
   "execution_count": null,
   "id": "9e49c18e",
   "metadata": {},
   "outputs": [
    {
     "name": "stdout",
     "output_type": "stream",
     "text": [
      "Final losses -> train: 0.006283, val: 0.006961\n"
     ]
    }
   ],
   "source": [
    "train_loss = history.history['loss'][-1]\n",
    "val_loss = history.history.get('val_loss', [None])[-1]\n",
    "print(f\"Final losses -> train: {train_loss:.6f}, val: {val_loss:.6f}\")"
   ]
  },
  {
   "cell_type": "code",
   "execution_count": null,
   "id": "5e1a73f6",
   "metadata": {},
   "outputs": [],
   "source": [
    "scaler_X = joblib.load('../models/scaler_X.pkl')\n",
    "scaler_y = joblib.load('../models/scaler_y.pkl')"
   ]
  },
  {
   "cell_type": "code",
   "execution_count": null,
   "id": "daf31f8f",
   "metadata": {},
   "outputs": [
    {
     "name": "stdout",
     "output_type": "stream",
     "text": [
      "3/3 [==============================] - 1s 7ms/step\n"
     ]
    }
   ],
   "source": [
    "pred_scaled = model.predict(X_test).flatten()\n",
    "predicted = scaler_y.inverse_transform(pred_scaled.reshape(-1, 1)).flatten()"
   ]
  },
  {
   "cell_type": "code",
   "execution_count": null,
   "id": "f185f869",
   "metadata": {},
   "outputs": [],
   "source": [
    "prev_scaled = X_test.reshape(X_test.shape[0], window_size)[:, -1].reshape(-1, 1)\n",
    "prev_actuals = scaler_X.inverse_transform(prev_scaled).flatten()"
   ]
  },
  {
   "cell_type": "code",
   "execution_count": null,
   "id": "229c0fd2",
   "metadata": {},
   "outputs": [
    {
     "name": "stdout",
     "output_type": "stream",
     "text": [
      "Direction accuracy (predicted > previous actual): 45.00%\n"
     ]
    }
   ],
   "source": [
    "pred_dir_binary = (predicted > prev_actuals).astype(int)\n",
    "actual_dir_binary = (y_test > prev_actuals).astype(int)\n",
    "\n",
    "direction_accuracy = (pred_dir_binary == actual_dir_binary).mean() * 100\n",
    "print(f\"Direction accuracy (predicted > previous actual): {direction_accuracy:.2f}%\")"
   ]
  },
  {
   "cell_type": "code",
   "execution_count": null,
   "id": "35b5f212",
   "metadata": {},
   "outputs": [
    {
     "data": {
      "image/png": "[encoded data removed]",
      "text/plain": [
       "<Figure size 1000x600 with 1 Axes>"
      ]
     },
     "metadata": {},
     "output_type": "display_data"
    }
   ],
   "source": [
    "plt.figure(figsize=(10, 6))\n",
    "plt.plot(y_test, label=\"Actual Price\")\n",
    "plt.plot(predicted, label=\"Predicted Price\")\n",
    "plt.title(f\"LSTM Predicted vs Actual Price | Direction Accuracy: {direction_accuracy:.2f}%\")\n",
    "plt.xlabel(\"Samples\")\n",
    "plt.ylabel(\"Average Price\")\n",
    "plt.legend()\n",
    "plt.tight_layout()\n",
    "plt.show()"
   ]
  }
 ],
 "metadata": {
  "language_info": {
   "name": "python"
  }
 },
 "nbformat": 4,
 "nbformat_minor": 5
}
